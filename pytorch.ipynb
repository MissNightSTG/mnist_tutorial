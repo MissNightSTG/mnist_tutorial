{
 "cells": [
  {
   "cell_type": "markdown",
   "metadata": {},
   "source": [
    "# Pytorch Tutorial"
   ]
  },
  {
   "cell_type": "markdown",
   "metadata": {},
   "source": [
    "Pytorch is a popular deep learning framework and it's easy to get started."
   ]
  },
  {
   "cell_type": "code",
   "execution_count": 1,
   "metadata": {},
   "outputs": [],
   "source": [
    "import torch\n",
    "import torch.nn as nn\n",
    "import torch.utils.data as data\n",
    "import torch.nn.functional as F\n",
    "import torchvision\n",
    "import torchvision.transforms as transforms\n",
    "from tqdm import tqdm\n",
    "import time\n",
    "\n",
    "BATCH_SIZE = 128\n",
    "NUM_EPOCHS = 10"
   ]
  },
  {
   "cell_type": "markdown",
   "metadata": {},
   "source": [
    "First, we read the mnist data, preprocess them and encapsulate them into dataloader form."
   ]
  },
  {
   "cell_type": "code",
   "execution_count": 2,
   "metadata": {},
   "outputs": [],
   "source": [
    "# preprocessing\n",
    "normalize = transforms.Normalize(mean=[.5], std=[.5])\n",
    "transform = transforms.Compose([transforms.ToTensor(), normalize])\n",
    "\n",
    "# download and load the data\n",
    "train_dataset = torchvision.datasets.MNIST(root='./mnist/', train=True, transform=transform, download=True)\n",
    "test_dataset = torchvision.datasets.MNIST(root='./mnist/', train=False, transform=transform, download=False)\n",
    "\n",
    "# encapsulate them into dataloader form\n",
    "train_loader = data.DataLoader(train_dataset, batch_size=BATCH_SIZE, shuffle=True, drop_last=True)\n",
    "test_loader = data.DataLoader(test_dataset, batch_size=BATCH_SIZE, shuffle=False, drop_last=True)"
   ]
  },
  {
   "cell_type": "markdown",
   "metadata": {},
   "source": [
    "Then, we define the model, object function and optimizer that we use to classify."
   ]
  },
  {
   "cell_type": "code",
   "execution_count": 3,
   "metadata": {},
   "outputs": [],
   "source": [
    "import torch.optim as optim\n",
    "class SimpleNet(nn.Module):\n",
    "# TODO:define model\n",
    "    def __init__(self):\n",
    "        super().__init__()\n",
    "        self.conv1 = nn.Conv2d(1,10,5) # input:(1,28,28) output:(10,24,24) \n",
    "        self.conv2 = nn.Conv2d(10,20,3) # input:(10,12,12) output:(20,10,10)\n",
    "        self.fc1 = nn.Linear(20*10*10,500)\n",
    "        self.fc2 = nn.Linear(500,10)\n",
    "        \n",
    "    def forward(self,x):\n",
    "        in_size = x.size(0)\n",
    "        out = self.conv1(x)\n",
    "        out = F.relu(out)\n",
    "        out = F.max_pool2d(out, 2, 2)  \n",
    "        out = self.conv2(out)\n",
    "        out = F.relu(out)\n",
    "        out = out.view(in_size,-1)\n",
    "        out = self.fc1(out)\n",
    "        out = F.relu(out)\n",
    "        out = self.fc2(out)\n",
    "        out = F.log_softmax(out,dim=1)\n",
    "        return out\n",
    "     \n",
    "model = SimpleNet()\n",
    "\n",
    "# TODO:define loss function and optimiter\n",
    "criterion = nn.CrossEntropyLoss()\n",
    "optimizer = optim.Adam(model.parameters())\n"
   ]
  },
  {
   "cell_type": "markdown",
   "metadata": {},
   "source": [
    "Next, we can start to train and evaluate!"
   ]
  },
  {
   "cell_type": "code",
   "execution_count": 4,
   "metadata": {
    "scrolled": false
   },
   "outputs": [
    {
     "name": "stderr",
     "output_type": "stream",
     "text": [
      "100%|██████████| 468/468 [00:43<00:00, 10.64it/s]\n",
      "100%|██████████| 468/468 [00:52<00:00,  8.87it/s]\n",
      "100%|██████████| 78/78 [00:08<00:00,  8.86it/s]\n",
      "  0%|          | 1/468 [00:00<00:48,  9.71it/s]"
     ]
    },
    {
     "name": "stdout",
     "output_type": "stream",
     "text": [
      "Epoch: 1\n",
      "Training: 0.9833900908119658\n",
      "Testing: 0.9861778846153846\n"
     ]
    },
    {
     "name": "stderr",
     "output_type": "stream",
     "text": [
      "100%|██████████| 468/468 [00:52<00:00,  8.93it/s]\n",
      "100%|██████████| 468/468 [00:53<00:00,  8.80it/s]\n",
      "100%|██████████| 78/78 [00:08<00:00,  9.00it/s]\n",
      "  0%|          | 1/468 [00:00<00:50,  9.23it/s]"
     ]
    },
    {
     "name": "stdout",
     "output_type": "stream",
     "text": [
      "Epoch: 2\n",
      "Training: 0.9918035523504274\n",
      "Testing: 0.9908854166666666\n"
     ]
    },
    {
     "name": "stderr",
     "output_type": "stream",
     "text": [
      "100%|██████████| 468/468 [00:52<00:00,  8.98it/s]\n",
      "100%|██████████| 468/468 [00:51<00:00,  9.06it/s]\n",
      "100%|██████████| 78/78 [00:08<00:00,  9.10it/s]\n",
      "  0%|          | 1/468 [00:00<00:50,  9.24it/s]"
     ]
    },
    {
     "name": "stdout",
     "output_type": "stream",
     "text": [
      "Epoch: 3\n",
      "Training: 0.9960269764957265\n",
      "Testing: 0.9942908653846154\n"
     ]
    },
    {
     "name": "stderr",
     "output_type": "stream",
     "text": [
      "100%|██████████| 468/468 [00:50<00:00,  9.22it/s]\n",
      "100%|██████████| 468/468 [00:50<00:00,  9.23it/s]\n",
      "100%|██████████| 78/78 [00:08<00:00,  9.34it/s]\n",
      "  0%|          | 1/468 [00:00<00:52,  8.87it/s]"
     ]
    },
    {
     "name": "stdout",
     "output_type": "stream",
     "text": [
      "Epoch: 4\n",
      "Training: 0.9970285790598291\n",
      "Testing: 0.9939903846153846\n"
     ]
    },
    {
     "name": "stderr",
     "output_type": "stream",
     "text": [
      "100%|██████████| 468/468 [00:50<00:00,  9.31it/s]\n",
      "100%|██████████| 468/468 [00:51<00:00,  9.16it/s]\n",
      "100%|██████████| 78/78 [00:08<00:00,  9.26it/s]\n",
      "  0%|          | 1/468 [00:00<00:51,  9.03it/s]"
     ]
    },
    {
     "name": "stdout",
     "output_type": "stream",
     "text": [
      "Epoch: 5\n",
      "Training: 0.9971788194444444\n",
      "Testing: 0.995292467948718\n"
     ]
    },
    {
     "name": "stderr",
     "output_type": "stream",
     "text": [
      "100%|██████████| 468/468 [00:50<00:00,  9.27it/s]\n",
      "100%|██████████| 468/468 [00:50<00:00,  9.26it/s]\n",
      "100%|██████████| 78/78 [00:08<00:00,  9.28it/s]\n",
      "  0%|          | 1/468 [00:00<00:53,  8.66it/s]"
     ]
    },
    {
     "name": "stdout",
     "output_type": "stream",
     "text": [
      "Epoch: 6\n",
      "Training: 0.9990317841880342\n",
      "Testing: 0.9957932692307693\n"
     ]
    },
    {
     "name": "stderr",
     "output_type": "stream",
     "text": [
      "100%|██████████| 468/468 [00:51<00:00,  9.14it/s]\n",
      "100%|██████████| 468/468 [00:51<00:00,  9.15it/s]\n",
      "100%|██████████| 78/78 [00:08<00:00,  9.36it/s]\n",
      "  0%|          | 1/468 [00:00<00:49,  9.42it/s]"
     ]
    },
    {
     "name": "stdout",
     "output_type": "stream",
     "text": [
      "Epoch: 7\n",
      "Training: 0.9989149305555556\n",
      "Testing: 0.996895032051282\n"
     ]
    },
    {
     "name": "stderr",
     "output_type": "stream",
     "text": [
      "100%|██████████| 468/468 [00:51<00:00,  9.15it/s]\n",
      "100%|██████████| 468/468 [00:51<00:00,  9.15it/s]\n",
      "100%|██████████| 78/78 [00:08<00:00,  9.21it/s]\n",
      "  0%|          | 1/468 [00:00<00:53,  8.79it/s]"
     ]
    },
    {
     "name": "stdout",
     "output_type": "stream",
     "text": [
      "Epoch: 8\n",
      "Training: 0.9990985576923077\n",
      "Testing: 0.9972956730769231\n"
     ]
    },
    {
     "name": "stderr",
     "output_type": "stream",
     "text": [
      "100%|██████████| 468/468 [00:50<00:00,  9.21it/s]\n",
      "100%|██████████| 468/468 [00:50<00:00,  9.28it/s]\n",
      "100%|██████████| 78/78 [00:08<00:00,  9.22it/s]\n",
      "  0%|          | 1/468 [00:00<00:53,  8.68it/s]"
     ]
    },
    {
     "name": "stdout",
     "output_type": "stream",
     "text": [
      "Epoch: 9\n",
      "Training: 0.9994157318376068\n",
      "Testing: 0.9982972756410257\n"
     ]
    },
    {
     "name": "stderr",
     "output_type": "stream",
     "text": [
      "100%|██████████| 468/468 [00:50<00:00,  9.27it/s]\n",
      "100%|██████████| 468/468 [00:50<00:00,  9.24it/s]\n",
      "100%|██████████| 78/78 [00:08<00:00,  9.18it/s]"
     ]
    },
    {
     "name": "stdout",
     "output_type": "stream",
     "text": [
      "Epoch: 10\n",
      "Training: 0.9990818643162394\n",
      "Testing: 0.9975961538461539\n"
     ]
    },
    {
     "name": "stderr",
     "output_type": "stream",
     "text": [
      "\n"
     ]
    }
   ],
   "source": [
    "# train and evaluate\n",
    "for epoch in range(NUM_EPOCHS):\n",
    "    model.train()\n",
    "    for images, labels in tqdm(train_loader):\n",
    "        # TODO:forward + backward + optimize\n",
    "        # images = images.view(images.size(0), -1)\n",
    "        if(torch.cuda.is_available()):\n",
    "            images = images.cuda()\n",
    "            labels = label.cuda()\n",
    "        \n",
    "        out = model(images)\n",
    "        loss = criterion(out, labels)\n",
    "        \n",
    "        optimizer.zero_grad()\n",
    "        loss.backward()\n",
    "        optimizer.step()\n",
    "        \n",
    "        \n",
    "        \n",
    "    # evaluate\n",
    "    # TODO:calculate the accuracy using training and testing dataset\n",
    "    model.eval()\n",
    "    eval_acc = 0\n",
    "    eval_loss = 0\n",
    "    train_loss = 0\n",
    "    train_acc = 0\n",
    "    for images, labels in tqdm(train_loader):\n",
    "        if(torch.cuda.is_available()):\n",
    "            images = images.cuda()\n",
    "            labels = label.cuda()\n",
    "            \n",
    "        out = model(images)\n",
    "        loss = criterion(out, labels)\n",
    "        \n",
    "        optimizer.zero_grad()\n",
    "        loss.backward()\n",
    "        optimizer.step()\n",
    "        \n",
    "        train_loss = loss.item()\n",
    "        _, pred_train = torch.max(out.data,1) \n",
    "        num_correct_train = (pred_train == labels).sum().item()\n",
    "        acc_train = num_correct_train / images.shape[0]\n",
    "        train_acc += acc_train\n",
    "        \n",
    "    model.eval()    \n",
    "    for images, labels in tqdm(test_loader):\n",
    "        # images = images.view(images.size(0), -1)\n",
    "        if(torch.cuda.is_available()):\n",
    "            images = images.cuda()\n",
    "            labels = label.cuda()\n",
    "        \n",
    "        out = model(images)\n",
    "        loss = criterion(out, labels)\n",
    "        \n",
    "        optimizer.zero_grad()\n",
    "        loss.backward()\n",
    "        optimizer.step()\n",
    "        \n",
    "        eval_loss = loss.item()\n",
    "        _, pred_test = torch.max(out.data,1) \n",
    "        num_correct_test = (pred_test == labels).sum().item()\n",
    "        acc_test = num_correct_test / images.shape[0]\n",
    "        eval_acc += acc_test\n",
    "    print('Epoch:',epoch+1)\n",
    "    print('Training:',train_acc/len(train_loader))\n",
    "    print('Testing:',eval_acc/len(test_loader))\n",
    "        "
   ]
  },
  {
   "cell_type": "code",
   "execution_count": null,
   "metadata": {},
   "outputs": [],
   "source": []
  },
  {
   "cell_type": "markdown",
   "metadata": {},
   "source": [
    "#### Q5:\n",
    "Please print the training and testing accuracy."
   ]
  }
 ],
 "metadata": {
  "kernelspec": {
   "display_name": "Python 3",
   "language": "python",
   "name": "python3"
  },
  "language_info": {
   "codemirror_mode": {
    "name": "ipython",
    "version": 3
   },
   "file_extension": ".py",
   "mimetype": "text/x-python",
   "name": "python",
   "nbconvert_exporter": "python",
   "pygments_lexer": "ipython3",
   "version": "3.7.6"
  }
 },
 "nbformat": 4,
 "nbformat_minor": 2
}
